{
 "cells": [
  {
   "cell_type": "code",
   "execution_count": 15,
   "metadata": {},
   "outputs": [],
   "source": [
    "import pandas as pd\n",
    "import numpy as np\n",
    "import matplotlib.pyplot as plt\n",
    "import seaborn as sns\n",
    "import ast\n",
    "from sklearn.preprocessing import StandardScaler\n",
    "from sklearn.feature_selection import SelectKBest\n",
    "from sklearn.feature_selection import mutual_info_classif\n",
    "from sklearn.model_selection import train_test_split\n",
    "from sklearn.model_selection import GridSearchCV\n",
    "from sklearn.linear_model import LogisticRegression\n",
    "from sklearn.svm import LinearSVC\n",
    "from sklearn.tree import DecisionTreeClassifier\n",
    "from sklearn.ensemble import RandomForestClassifier\n",
    "from sklearn.ensemble import GradientBoostingClassifier\n",
    "from sklearn.naive_bayes import GaussianNB\n",
    "from sklearn.neighbors import KNeighborsClassifier\n",
    "\n",
    "from sklearn.metrics import confusion_matrix, accuracy_score, precision_score, recall_score"
   ]
  },
  {
   "cell_type": "code",
   "execution_count": 16,
   "metadata": {},
   "outputs": [],
   "source": [
    "match_data = pd.read_csv('data\\\\gold_dif.csv').sort_values('platformgameid')\n",
    "match_history = pd.read_csv('data\\\\match_history.csv').rename({'gameid' : 'platformgameid'}, axis = 1)[['platformgameid', 'winning_side']]\n",
    "# match_history['winning_side'] = match_history['winning_side'].apply(lambda x: 'blue' if x == 100 else 'red')\n",
    "match_data = match_data.merge(match_history, how = 'inner', on = 'platformgameid')"
   ]
  },
  {
   "cell_type": "code",
   "execution_count": 17,
   "metadata": {},
   "outputs": [],
   "source": [
    "def parse_string_to_dict_list(string):\n",
    "    dict_list = []\n",
    "    dict_strs = string.split(\"}, {\")\n",
    "    for dict_str in dict_strs:\n",
    "        dict_items = dict_str.replace('[', '').replace(']', '').replace('{', '').replace('}', '').split(\", \")\n",
    "        new_dict = {}\n",
    "        for dict_item in dict_items:\n",
    "            key, value = dict_item.split(\"=\")\n",
    "            new_dict[key] = int(value)\n",
    "        dict_list.append(new_dict)\n",
    "    return dict_list\n"
   ]
  },
  {
   "cell_type": "code",
   "execution_count": 18,
   "metadata": {},
   "outputs": [],
   "source": [
    "match_data['teams'] = match_data['teams'].apply(lambda x: parse_string_to_dict_list(x))"
   ]
  },
  {
   "cell_type": "code",
   "execution_count": 19,
   "metadata": {},
   "outputs": [
    {
     "data": {
      "text/plain": [
       "21708"
      ]
     },
     "execution_count": 19,
     "metadata": {},
     "output_type": "execute_result"
    }
   ],
   "source": [
    "match_data.head(1)['teams'].values[0][1]['totalgold']"
   ]
  },
  {
   "cell_type": "code",
   "execution_count": 20,
   "metadata": {},
   "outputs": [
    {
     "data": {
      "text/html": [
       "<div>\n",
       "<style scoped>\n",
       "    .dataframe tbody tr th:only-of-type {\n",
       "        vertical-align: middle;\n",
       "    }\n",
       "\n",
       "    .dataframe tbody tr th {\n",
       "        vertical-align: top;\n",
       "    }\n",
       "\n",
       "    .dataframe thead th {\n",
       "        text-align: right;\n",
       "    }\n",
       "</style>\n",
       "<table border=\"1\" class=\"dataframe\">\n",
       "  <thead>\n",
       "    <tr style=\"text-align: right;\">\n",
       "      <th></th>\n",
       "      <th>team_gold</th>\n",
       "      <th>team_gold_lead</th>\n",
       "      <th>team_towers</th>\n",
       "      <th>team_dragons</th>\n",
       "      <th>team_barons</th>\n",
       "      <th>team_kills</th>\n",
       "      <th>team_deaths</th>\n",
       "      <th>team_assists</th>\n",
       "      <th>result</th>\n",
       "    </tr>\n",
       "  </thead>\n",
       "  <tbody>\n",
       "    <tr>\n",
       "      <th>0</th>\n",
       "      <td>25282</td>\n",
       "      <td>3574</td>\n",
       "      <td>0</td>\n",
       "      <td>2</td>\n",
       "      <td>0</td>\n",
       "      <td>10</td>\n",
       "      <td>5</td>\n",
       "      <td>15</td>\n",
       "      <td>win</td>\n",
       "    </tr>\n",
       "    <tr>\n",
       "      <th>1</th>\n",
       "      <td>21708</td>\n",
       "      <td>-3574</td>\n",
       "      <td>0</td>\n",
       "      <td>0</td>\n",
       "      <td>0</td>\n",
       "      <td>5</td>\n",
       "      <td>10</td>\n",
       "      <td>6</td>\n",
       "      <td>lose</td>\n",
       "    </tr>\n",
       "    <tr>\n",
       "      <th>2</th>\n",
       "      <td>24729</td>\n",
       "      <td>2090</td>\n",
       "      <td>1</td>\n",
       "      <td>0</td>\n",
       "      <td>0</td>\n",
       "      <td>3</td>\n",
       "      <td>5</td>\n",
       "      <td>2</td>\n",
       "      <td>win</td>\n",
       "    </tr>\n",
       "    <tr>\n",
       "      <th>3</th>\n",
       "      <td>22639</td>\n",
       "      <td>-2090</td>\n",
       "      <td>0</td>\n",
       "      <td>1</td>\n",
       "      <td>0</td>\n",
       "      <td>5</td>\n",
       "      <td>3</td>\n",
       "      <td>8</td>\n",
       "      <td>lose</td>\n",
       "    </tr>\n",
       "    <tr>\n",
       "      <th>4</th>\n",
       "      <td>26627</td>\n",
       "      <td>4815</td>\n",
       "      <td>1</td>\n",
       "      <td>1</td>\n",
       "      <td>0</td>\n",
       "      <td>12</td>\n",
       "      <td>4</td>\n",
       "      <td>21</td>\n",
       "      <td>win</td>\n",
       "    </tr>\n",
       "    <tr>\n",
       "      <th>...</th>\n",
       "      <td>...</td>\n",
       "      <td>...</td>\n",
       "      <td>...</td>\n",
       "      <td>...</td>\n",
       "      <td>...</td>\n",
       "      <td>...</td>\n",
       "      <td>...</td>\n",
       "      <td>...</td>\n",
       "      <td>...</td>\n",
       "    </tr>\n",
       "    <tr>\n",
       "      <th>50507</th>\n",
       "      <td>25418</td>\n",
       "      <td>1035</td>\n",
       "      <td>1</td>\n",
       "      <td>0</td>\n",
       "      <td>0</td>\n",
       "      <td>4</td>\n",
       "      <td>7</td>\n",
       "      <td>8</td>\n",
       "      <td>win</td>\n",
       "    </tr>\n",
       "    <tr>\n",
       "      <th>50508</th>\n",
       "      <td>23997</td>\n",
       "      <td>1447</td>\n",
       "      <td>0</td>\n",
       "      <td>2</td>\n",
       "      <td>0</td>\n",
       "      <td>4</td>\n",
       "      <td>1</td>\n",
       "      <td>8</td>\n",
       "      <td>win</td>\n",
       "    </tr>\n",
       "    <tr>\n",
       "      <th>50509</th>\n",
       "      <td>22550</td>\n",
       "      <td>-1447</td>\n",
       "      <td>0</td>\n",
       "      <td>0</td>\n",
       "      <td>0</td>\n",
       "      <td>1</td>\n",
       "      <td>4</td>\n",
       "      <td>2</td>\n",
       "      <td>lose</td>\n",
       "    </tr>\n",
       "    <tr>\n",
       "      <th>50510</th>\n",
       "      <td>22273</td>\n",
       "      <td>-2321</td>\n",
       "      <td>0</td>\n",
       "      <td>1</td>\n",
       "      <td>0</td>\n",
       "      <td>3</td>\n",
       "      <td>8</td>\n",
       "      <td>3</td>\n",
       "      <td>lose</td>\n",
       "    </tr>\n",
       "    <tr>\n",
       "      <th>50511</th>\n",
       "      <td>24594</td>\n",
       "      <td>2321</td>\n",
       "      <td>0</td>\n",
       "      <td>0</td>\n",
       "      <td>0</td>\n",
       "      <td>8</td>\n",
       "      <td>3</td>\n",
       "      <td>13</td>\n",
       "      <td>win</td>\n",
       "    </tr>\n",
       "  </tbody>\n",
       "</table>\n",
       "<p>50512 rows × 9 columns</p>\n",
       "</div>"
      ],
      "text/plain": [
       "      team_gold team_gold_lead team_towers team_dragons team_barons  \\\n",
       "0         25282           3574           0            2           0   \n",
       "1         21708          -3574           0            0           0   \n",
       "2         24729           2090           1            0           0   \n",
       "3         22639          -2090           0            1           0   \n",
       "4         26627           4815           1            1           0   \n",
       "...         ...            ...         ...          ...         ...   \n",
       "50507     25418           1035           1            0           0   \n",
       "50508     23997           1447           0            2           0   \n",
       "50509     22550          -1447           0            0           0   \n",
       "50510     22273          -2321           0            1           0   \n",
       "50511     24594           2321           0            0           0   \n",
       "\n",
       "      team_kills team_deaths team_assists result  \n",
       "0             10           5           15    win  \n",
       "1              5          10            6   lose  \n",
       "2              3           5            2    win  \n",
       "3              5           3            8   lose  \n",
       "4             12           4           21    win  \n",
       "...          ...         ...          ...    ...  \n",
       "50507          4           7            8    win  \n",
       "50508          4           1            8    win  \n",
       "50509          1           4            2   lose  \n",
       "50510          3           8            3   lose  \n",
       "50511          8           3           13    win  \n",
       "\n",
       "[50512 rows x 9 columns]"
      ]
     },
     "execution_count": 20,
     "metadata": {},
     "output_type": "execute_result"
    }
   ],
   "source": [
    "mh_df = pd.DataFrame(\n",
    "    columns=[\n",
    "        \"team_gold\",\n",
    "        \"team_gold_lead\",\n",
    "        \"team_towers\",\n",
    "        \"team_dragons\",\n",
    "        \"team_barons\",\n",
    "        \"team_kills\",\n",
    "        \"team_deaths\",\n",
    "        \"team_assists\",\n",
    "    ]\n",
    ")\n",
    "\n",
    "for match in match_data.loc[match_data[\"game_event\"] == \"lane_state\"].itertuples():\n",
    "    for i in range(2):\n",
    "        mh_df = mh_df.append(\n",
    "            {\n",
    "                \"result\": \"win\" if int(str(match.winning_side - 100)[0]) == i else \"lose\",\n",
    "                \"team_gold\": match.teams[i][\"totalgold\"],\n",
    "                \"team_gold_lead\": match.teams[i][\"totalgold\"]\n",
    "                - match.teams[1 - i][\"totalgold\"],\n",
    "                \"team_towers\": match.teams[i][\"towerkills\"],\n",
    "                \"team_dragons\": match.teams[i][\"dragonkills\"],\n",
    "                \"team_barons\": match.teams[i][\"baronkills\"],\n",
    "                \"team_kills\": match.teams[i][\"championskills\"],\n",
    "                \"team_deaths\": match.teams[i][\"deaths\"],\n",
    "                \"team_assists\": match.teams[i][\"assists\"],\n",
    "            },\n",
    "            ignore_index=True,\n",
    "        ).reset_index(drop=True)\n",
    "mh_df"
   ]
  },
  {
   "cell_type": "code",
   "execution_count": 21,
   "metadata": {},
   "outputs": [
    {
     "data": {
      "text/plain": [
       "team_gold_lead    0.550302\n",
       "team_gold         0.249310\n",
       "team_deaths       0.080643\n",
       "team_dragons      0.062425\n",
       "team_kills        0.057320\n",
       "dtype: float64"
      ]
     },
     "metadata": {},
     "output_type": "display_data"
    },
    {
     "data": {
      "image/png": "[encoded data removed]",
      "text/plain": [
       "<Figure size 432x288 with 1 Axes>"
      ]
     },
     "metadata": {
      "needs_background": "light"
     },
     "output_type": "display_data"
    }
   ],
   "source": [
    "X = mh_df.drop(['result', 'team_barons', 'team_towers', 'team_assists'], axis = 1)\n",
    "y = mh_df['result']\n",
    "model = RandomForestClassifier( max_depth=10, max_features='log2', min_samples_split= 4, n_estimators=150)\n",
    "model.fit(X , y)\n",
    "feat_importances = pd.Series(model.feature_importances_, index=X.columns)\n",
    "feat_importances.nlargest(10).plot(kind='barh')\n",
    "display(feat_importances.sort_values(ascending=False))\n",
    "plt.show()"
   ]
  },
  {
   "cell_type": "code",
   "execution_count": 22,
   "metadata": {},
   "outputs": [],
   "source": [
    "#Drop low information columns to prevent overfitting to the training data\n",
    "x_data = mh_df.drop(['result', 'team_barons', 'team_towers', 'team_assists'], axis = 1)\n",
    "y_data = mh_df['result']\n"
   ]
  },
  {
   "cell_type": "code",
   "execution_count": 23,
   "metadata": {},
   "outputs": [],
   "source": [
    "X_train, X_test, y_train, y_test = train_test_split(x_data, y_data , test_size=0.25, random_state=0)\n"
   ]
  },
  {
   "cell_type": "code",
   "execution_count": 24,
   "metadata": {},
   "outputs": [],
   "source": [
    "ss_train = StandardScaler()\n",
    "X_train = ss_train.fit_transform(X_train)\n",
    "\n",
    "ss_test = StandardScaler()\n",
    "X_test = ss_test.fit_transform(X_test)\n"
   ]
  },
  {
   "cell_type": "code",
   "execution_count": 25,
   "metadata": {},
   "outputs": [],
   "source": [
    "models = {}\n",
    "models['Logistic Regression'] = LogisticRegression()\n",
    "models['Support Vector Machines'] = LinearSVC()\n",
    "models['Decision Trees'] = DecisionTreeClassifier()\n",
    "models['Random Forest'] = RandomForestClassifier()\n",
    "models['Naive Bayes'] = GaussianNB()\n",
    "models['K-Nearest Neighbor'] = KNeighborsClassifier()\n",
    "models['Gradient Boost'] = GradientBoostingClassifier()\n",
    "\n"
   ]
  },
  {
   "cell_type": "code",
   "execution_count": 26,
   "metadata": {},
   "outputs": [],
   "source": [
    "param_grid = {\n",
    "            'Logistic Regression': {\n",
    "                'penalty': [None, 'l1', 'l2', 'elasticnet'],\n",
    "                'C': [100.0, 10.0, 1.0, 0.1, .01],\n",
    "                'solver': ['lbfgs', 'liblinear', 'newton-cg', 'newton-cg', 'sag', 'saga'],\n",
    "                },\n",
    "            'Support Vector Machines': {\n",
    "                'penalty': ['l1', 'l2'],\n",
    "                'C': [100.0, 10.0, 1.0, 0.1, .01],\n",
    "                },\n",
    "            'Decision Trees': {\n",
    "                },\n",
    "            'Random Forest': {\n",
    "                'n_estimators': [10, 50, 100, 150, 200],\n",
    "                'max_depth': [None, 5, 7, 10, 20],\n",
    "                'min_samples_split': [2, 4, 6, 8, 10],\n",
    "                'max_features': ['sqrt', 'log2'],\n",
    "                },\n",
    "            'Naive Bayes': {\n",
    "                },\n",
    "            'K-Nearest Neighbor': {\n",
    "                },\n",
    "            'Gradient Boost': {\n",
    "                'learning_rate': [0.01],\n",
    "                'n_estimators': [60, 75, 90],\n",
    "                'subsample':  [0.7, 0.75, 0.8],\n",
    "                'max_depth': [6, 7, 8],\n",
    "                },\n",
    "}"
   ]
  },
  {
   "cell_type": "code",
   "execution_count": 27,
   "metadata": {},
   "outputs": [],
   "source": [
    "accuracy, precision, recall, f1score = {}, {}, {}, {}\n"
   ]
  },
  {
   "cell_type": "code",
   "execution_count": 28,
   "metadata": {},
   "outputs": [
    {
     "name": "stderr",
     "output_type": "stream",
     "text": [
      "c:\\Users\\Ilemn\\AppData\\Local\\Programs\\Python\\Python39\\lib\\site-packages\\sklearn\\model_selection\\_search.py:922: UserWarning: One or more of the test scores are non-finite: [       nan        nan        nan        nan        nan        nan\n",
      "        nan 0.7417378         nan        nan        nan 0.74168501\n",
      " 0.74171141 0.74171141 0.74171141 0.74171141 0.74171141 0.74171141\n",
      "        nan        nan        nan        nan        nan        nan\n",
      "        nan        nan        nan        nan        nan        nan\n",
      "        nan 0.74171141        nan        nan        nan 0.74168501\n",
      " 0.74171141 0.74171141 0.74171141 0.74171141 0.74171141 0.74171141\n",
      "        nan        nan        nan        nan        nan        nan\n",
      "        nan        nan        nan        nan        nan        nan\n",
      "        nan 0.74163221        nan        nan        nan 0.74163222\n",
      " 0.74168501 0.74165861 0.74165861 0.74165861 0.74165861 0.74165861\n",
      "        nan        nan        nan        nan        nan        nan\n",
      "        nan        nan        nan        nan        nan        nan\n",
      "        nan 0.74184338        nan        nan        nan 0.74179058\n",
      " 0.74150024 0.74150024 0.74150024 0.74150024 0.74150024 0.74150024\n",
      "        nan        nan        nan        nan        nan        nan\n",
      "        nan        nan        nan        nan        nan        nan\n",
      "        nan 0.74134182        nan        nan        nan 0.74171138\n",
      " 0.7413155  0.7413419  0.7413155  0.7413155  0.7413155  0.7413155\n",
      "        nan        nan        nan        nan        nan        nan]\n",
      "  warnings.warn(\n"
     ]
    },
    {
     "name": "stdout",
     "output_type": "stream",
     "text": [
      "{'C': 0.1, 'penalty': 'l1', 'solver': 'liblinear'}\n"
     ]
    },
    {
     "name": "stderr",
     "output_type": "stream",
     "text": [
      "c:\\Users\\Ilemn\\AppData\\Local\\Programs\\Python\\Python39\\lib\\site-packages\\sklearn\\model_selection\\_search.py:922: UserWarning: One or more of the test scores are non-finite: [       nan 0.72927814        nan 0.74091947        nan 0.74142107\n",
      "        nan 0.74144746        nan 0.74139466]\n",
      "  warnings.warn(\n",
      "c:\\Users\\Ilemn\\AppData\\Local\\Programs\\Python\\Python39\\lib\\site-packages\\sklearn\\svm\\_base.py:985: ConvergenceWarning: Liblinear failed to converge, increase the number of iterations.\n",
      "  warnings.warn(\"Liblinear failed to converge, increase \"\n"
     ]
    },
    {
     "name": "stdout",
     "output_type": "stream",
     "text": [
      "{'C': 0.1, 'penalty': 'l2'}\n",
      "{}\n",
      "{'max_depth': 10, 'max_features': 'log2', 'min_samples_split': 2, 'n_estimators': 150}\n",
      "{}\n",
      "{}\n",
      "{'learning_rate': 0.01, 'max_depth': 7, 'n_estimators': 90, 'subsample': 0.75}\n"
     ]
    }
   ],
   "source": [
    "for key in models.keys():\n",
    "    \n",
    "    # Fit the classifier\n",
    "    grid_search = GridSearchCV(estimator = models[key], param_grid= param_grid[key], cv = 5, n_jobs= -1)\n",
    "    grid_search.fit(X_train, y_train)\n",
    "    print(grid_search.best_params_)\n",
    "    models[key] = grid_search.best_estimator_\n",
    "\n",
    "    # Make predictions\n",
    "    predictions = models[key].predict(X_test)\n",
    "    \n",
    "    # Calculate metrics\n",
    "    accuracy[key] = accuracy_score(y_true = y_test, y_pred = predictions)\n",
    "    precision[key] = precision_score(y_true = y_test, y_pred = predictions, pos_label = 'win')\n",
    "    recall[key] = recall_score(y_true = y_test, y_pred = predictions, pos_label = 'win')\n",
    "    f1score[key] = (2 * precision[key] * recall[key]) / (precision[key] + recall[key])\n"
   ]
  },
  {
   "cell_type": "code",
   "execution_count": 29,
   "metadata": {},
   "outputs": [
    {
     "data": {
      "text/html": [
       "<div>\n",
       "<style scoped>\n",
       "    .dataframe tbody tr th:only-of-type {\n",
       "        vertical-align: middle;\n",
       "    }\n",
       "\n",
       "    .dataframe tbody tr th {\n",
       "        vertical-align: top;\n",
       "    }\n",
       "\n",
       "    .dataframe thead th {\n",
       "        text-align: right;\n",
       "    }\n",
       "</style>\n",
       "<table border=\"1\" class=\"dataframe\">\n",
       "  <thead>\n",
       "    <tr style=\"text-align: right;\">\n",
       "      <th></th>\n",
       "      <th>Accuracy</th>\n",
       "      <th>Precision</th>\n",
       "      <th>Recall</th>\n",
       "      <th>F1score</th>\n",
       "    </tr>\n",
       "  </thead>\n",
       "  <tbody>\n",
       "    <tr>\n",
       "      <th>Logistic Regression</th>\n",
       "      <td>0.740101</td>\n",
       "      <td>0.749520</td>\n",
       "      <td>0.731959</td>\n",
       "      <td>0.740635</td>\n",
       "    </tr>\n",
       "    <tr>\n",
       "      <th>Support Vector Machines</th>\n",
       "      <td>0.740101</td>\n",
       "      <td>0.750160</td>\n",
       "      <td>0.730709</td>\n",
       "      <td>0.740307</td>\n",
       "    </tr>\n",
       "    <tr>\n",
       "      <th>Decision Trees</th>\n",
       "      <td>0.654260</td>\n",
       "      <td>0.663455</td>\n",
       "      <td>0.645423</td>\n",
       "      <td>0.654315</td>\n",
       "    </tr>\n",
       "    <tr>\n",
       "      <th>Random Forest</th>\n",
       "      <td>0.736063</td>\n",
       "      <td>0.748020</td>\n",
       "      <td>0.722899</td>\n",
       "      <td>0.735245</td>\n",
       "    </tr>\n",
       "    <tr>\n",
       "      <th>Naive Bayes</th>\n",
       "      <td>0.729015</td>\n",
       "      <td>0.758411</td>\n",
       "      <td>0.683068</td>\n",
       "      <td>0.718771</td>\n",
       "    </tr>\n",
       "    <tr>\n",
       "      <th>K-Nearest Neighbor</th>\n",
       "      <td>0.707475</td>\n",
       "      <td>0.714921</td>\n",
       "      <td>0.703530</td>\n",
       "      <td>0.709180</td>\n",
       "    </tr>\n",
       "    <tr>\n",
       "      <th>Gradient Boost</th>\n",
       "      <td>0.738201</td>\n",
       "      <td>0.750081</td>\n",
       "      <td>0.725242</td>\n",
       "      <td>0.737452</td>\n",
       "    </tr>\n",
       "  </tbody>\n",
       "</table>\n",
       "</div>"
      ],
      "text/plain": [
       "                         Accuracy  Precision    Recall   F1score\n",
       "Logistic Regression      0.740101   0.749520  0.731959  0.740635\n",
       "Support Vector Machines  0.740101   0.750160  0.730709  0.740307\n",
       "Decision Trees           0.654260   0.663455  0.645423  0.654315\n",
       "Random Forest            0.736063   0.748020  0.722899  0.735245\n",
       "Naive Bayes              0.729015   0.758411  0.683068  0.718771\n",
       "K-Nearest Neighbor       0.707475   0.714921  0.703530  0.709180\n",
       "Gradient Boost           0.738201   0.750081  0.725242  0.737452"
      ]
     },
     "execution_count": 29,
     "metadata": {},
     "output_type": "execute_result"
    }
   ],
   "source": [
    "model_perf = pd.DataFrame(index=models.keys(), columns=['Accuracy', 'Precision', 'Recall', 'F1score'])\n",
    "model_perf['Accuracy'] = accuracy.values()\n",
    "model_perf['Precision'] = precision.values()\n",
    "model_perf['Recall'] = recall.values()\n",
    "model_perf['F1score'] = f1score.values()\n",
    "\n",
    "model_perf"
   ]
  },
  {
   "cell_type": "code",
   "execution_count": 30,
   "metadata": {},
   "outputs": [
    {
     "data": {
      "image/png": "[encoded data removed]",
      "text/plain": [
       "<Figure size 432x288 with 1 Axes>"
      ]
     },
     "metadata": {
      "needs_background": "light"
     },
     "output_type": "display_data"
    }
   ],
   "source": [
    "ax = model_perf.plot.barh()\n",
    "ax.legend(\n",
    "    ncol=2, \n",
    "    bbox_to_anchor=(0, 1), \n",
    "    loc='lower left', \n",
    "    prop={'size': 14}\n",
    ")\n",
    "plt.show()"
   ]
  }
 ],
 "metadata": {
  "kernelspec": {
   "display_name": "Python 3",
   "language": "python",
   "name": "python3"
  },
  "language_info": {
   "codemirror_mode": {
    "name": "ipython",
    "version": 3
   },
   "file_extension": ".py",
   "mimetype": "text/x-python",
   "name": "python",
   "nbconvert_exporter": "python",
   "pygments_lexer": "ipython3",
   "version": "3.9.1"
  },
  "orig_nbformat": 4
 },
 "nbformat": 4,
 "nbformat_minor": 2
}
